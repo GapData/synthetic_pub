{
  "nbformat": 4,
  "nbformat_minor": 0,
  "metadata": {
    "colab": {
      "name": "t5-pawraphrase.ipynb",
      "provenance": [],
      "toc_visible": true
    },
    "kernelspec": {
      "name": "Python 3.7.9 64-bit",
      "display_name": "Python 3.7.9 64-bit",
      "metadata": {
        "interpreter": {
          "hash": "aee8b7b246df8f9039afb4144a1f6fd8d2ca17a180786b69acc140d282b71a49"
        }
      }
    }
  },
  "cells": [
    {
      "cell_type": "code",
      "metadata": {
        "id": "RJWl3gIr1gKL"
      },
      "source": [
        "import gdown \n",
        "import os.path\n",
        "import torch\n",
        "from transformers import T5ForConditionalGeneration,T5Tokenizer\n",
        "import pandas as pd"
      ],
      "execution_count": null,
      "outputs": []
    },
    {
      "cell_type": "code",
      "metadata": {
        "id": "j6uyxYi-J8pz"
      },
      "source": [
        "datamodel = 'model/pytorch_model.bin'\n",
        "config_file = 'model/config.json'"
      ],
      "execution_count": null,
      "outputs": []
    },
    {
      "cell_type": "code",
      "metadata": {
        "id": "4JNmiqR6xtRJ"
      },
      "source": [
        "def set_seed(seed):\n",
        "  torch.manual_seed(seed)\n",
        "  if torch.cuda.is_available():\n",
        "    torch.cuda.manual_seed_all(seed)\n",
        "\n",
        "set_seed(42)\n",
        "\n",
        "model = T5ForConditionalGeneration.from_pretrained('t5-base')\n",
        "tokenizer = T5Tokenizer.from_pretrained('t5-base')"
      ],
      "execution_count": null,
      "outputs": []
    },
    {
      "cell_type": "code",
      "execution_count": null,
      "metadata": {},
      "outputs": [],
      "source": [
        "def similarity(x):\n",
        "    input_ids = tokenizer.encode(str(x), return_tensors='pt')\n",
        "    outputs = model.generate(input_ids=input_ids)\n",
        "    similarityd = tokenizer.decode(outputs[0])\n",
        "    return similarityd\n",
        "\n",
        "def cola(y):\n",
        "    input_ids = tokenizer.encode(str(y), return_tensors='pt')\n",
        "    outputs = model.generate(input_ids=input_ids)\n",
        "    colad = tokenizer.decode(outputs[0])\n",
        "    return colad"
      ]
    },
    {
      "cell_type": "code",
      "execution_count": null,
      "metadata": {},
      "outputs": [],
      "source": [
        "data = 0\n",
        "data = pd.read_csv(\"synthetic_data/synthetic_paraphrases.csv\", index_col=0)\n",
        "data[\"Similarity_Prep\"] = 'stsb sentence1:' + data['Inputs'] + ' sentence2:' + data['Paraphrase'] + ' </s>'\n",
        "data[\"Cola_Prep\"] = 'cola sentence: ' + data['Paraphrase'] + ' </s>'\n",
        "data.shape"
      ]
    },
    {
      "cell_type": "code",
      "execution_count": null,
      "metadata": {},
      "outputs": [],
      "source": [
        "similarity_values = [similarity(x) for x in data['Similarity_Prep']]\n",
        "cola_values = [cola(y) for y in data['Cola_Prep']]"
      ]
    },
    {
      "cell_type": "code",
      "execution_count": null,
      "metadata": {},
      "outputs": [],
      "source": [
        "pd_similarity_value = pd.DataFrame(similarity_values)\n",
        "pd_cola_value = pd.DataFrame(cola_values)\n",
        "sim_vals = pd.concat([data, pd_similarity_value.reindex(data.index)], axis=1)\n",
        "sim_cola_vals = pd.concat([sim_vals, pd_cola_value.reindex(data.index)], axis=1)\n",
        "sim_cola_vals.head()"
      ]
    },
    {
      "cell_type": "code",
      "execution_count": null,
      "metadata": {},
      "outputs": [],
      "source": [
        "sim_cola_vals.columns"
      ]
    },
    {
      "cell_type": "code",
      "execution_count": null,
      "metadata": {},
      "outputs": [],
      "source": [
        "export = sim_cola_vals[[\"Inputs\", \"Paraphrase\" , 0]]\n",
        "export.columns = [\"Inputs\", \"Paraphrase\" , 'Similarity', 'Acceptable']"
      ]
    },
    {
      "cell_type": "code",
      "execution_count": null,
      "metadata": {},
      "outputs": [],
      "source": [
        "export.sort_values(by=['Acceptable'], inplace=True, ascending=False)\n",
        "export.head()"
      ]
    },
    {
      "cell_type": "code",
      "execution_count": null,
      "metadata": {},
      "outputs": [],
      "source": [
        "export.to_csv('synthetic_data/synthetic_paraphrases_evaluated.csv')"
      ]
    }
  ]
}